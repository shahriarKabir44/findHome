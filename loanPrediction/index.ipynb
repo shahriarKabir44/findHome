{
 "cells": [
  {
   "cell_type": "code",
   "execution_count": 1,
   "metadata": {},
   "outputs": [],
   "source": [
    "import numpy as np\n",
    "import pandas as pd\n",
    "from sklearn.preprocessing import StandardScaler\n",
    "from sklearn.model_selection import train_test_split\n",
    "from sklearn.model_selection import cross_val_score\n",
    "from sklearn.metrics import accuracy_score\n",
    "import numpy as np\n",
    "import warnings\n",
    "from sklearn.linear_model import LogisticRegression\n",
    "from sklearn import svm\n",
    "from sklearn.tree import DecisionTreeClassifier\n",
    "from sklearn.ensemble import RandomForestClassifier\n",
    "from sklearn.model_selection import RandomizedSearchCV\n",
    "import joblib\n",
    "import pandas as pd\n",
    "from sklearn.ensemble import GradientBoostingClassifier"
   ]
  },
  {
   "cell_type": "code",
   "execution_count": 5,
   "metadata": {},
   "outputs": [],
   "source": [
    "model_df = {}"
   ]
  },
  {
   "cell_type": "code",
   "execution_count": 8,
   "metadata": {},
   "outputs": [],
   "source": [
    "def model_val(model, X, y):\n",
    "    X_train, X_test, y_train, y_test = train_test_split(\n",
    "        X, y, test_size=0.20, random_state=42)\n",
    "\n",
    "    model.fit(X_train, y_train)\n",
    "    y_pred = model.predict(X_test)\n",
    "    print(f\"{model} accuracy is {accuracy_score(y_test, y_pred)}\")\n",
    "\n",
    "    score = cross_val_score(model, X, y, cv=5)\n",
    "    print(f\"{model} Avg cross val score is {np.mean(score)}\")\n",
    "    model_df[model] = round(np.mean(score)*100, 2)"
   ]
  },
  {
   "cell_type": "code",
   "execution_count": 3,
   "metadata": {},
   "outputs": [],
   "source": [
    "data = pd.read_csv('./Train_Loan_Home.csv')\n",
    "\n",
    "data = data.drop('Loan_ID', axis=1)\n",
    "data = data.drop('ApplicantIncome', axis=1)\n",
    "data = data.drop('CoapplicantIncome', axis=1)\n",
    "data = data.drop('LoanAmount', axis=1)\n",
    "\n",
    "columns = ['Gender', 'Dependents',\n",
    "               'LoanAmount_In_Taka', 'Loan_Amount_Term']"
   ]
  },
  {
   "cell_type": "code",
   "execution_count": 4,
   "metadata": {},
   "outputs": [],
   "source": [
    "data = data.dropna(subset=columns)\n",
    "data['Self_Employed'] = data['Self_Employed'].fillna(\n",
    "        data['Self_Employed'].mode()[0])\n",
    "data['Credit_History'] = data['Credit_History'].fillna(\n",
    "        data['Credit_History'].mode()[0])\n",
    "\n",
    "data['Dependents'] = data['Dependents'].replace(to_replace=\"3+\", value='4')\n",
    "data['Gender'] = data['Gender'].map({'Male': 1, 'Female': 0}).astype('int')\n",
    "data['Married'] = data['Married'].map({'Yes': 1, 'No': 0}).astype('int')\n",
    "data['Education'] = data['Education'].map(\n",
    "        {'Graduate': 1, 'Not Graduate': 0}).astype('int')\n",
    "data['Self_Employed'] = data['Self_Employed'].map(\n",
    "        {'Yes': 1, 'No': 0}).astype('int')\n",
    "data['Property_Area'] = data['Property_Area'].map(\n",
    "        {'Rural': 0, 'Semiurban': 2, 'Urban': 1}).astype('int')\n",
    "data['Loan_Status'] = data['Loan_Status'].map(\n",
    "        {'Y': 1, 'N': 0}).astype('int')"
   ]
  },
  {
   "cell_type": "code",
   "execution_count": 6,
   "metadata": {},
   "outputs": [],
   "source": [
    "X = data.drop('Loan_Status', axis=1)\n",
    "y = data['Loan_Status']\n",
    "\n",
    "cols = ['ApplicantIncome_In_Taka', 'CoapplicantIncome_In_Taka',\n",
    "            'LoanAmount_In_Taka', 'Loan_Amount_Term']"
   ]
  },
  {
   "cell_type": "code",
   "execution_count": 7,
   "metadata": {},
   "outputs": [],
   "source": [
    "st = StandardScaler()\n",
    "X[cols] = st.fit_transform(X[cols])"
   ]
  },
  {
   "cell_type": "code",
   "execution_count": 14,
   "metadata": {},
   "outputs": [
    {
     "name": "stdout",
     "output_type": "stream",
     "text": [
      "LogisticRegression() accuracy is 0.6782608695652174\n",
      "LogisticRegression() Avg cross val score is 0.6875972540045766\n",
      "SVC() accuracy is 0.6869565217391305\n",
      "SVC() Avg cross val score is 0.6928299008390542\n",
      "DecisionTreeClassifier() accuracy is 0.7478260869565218\n",
      "DecisionTreeClassifier() Avg cross val score is 0.7173302822273074\n",
      "RandomForestClassifier() accuracy is 0.7565217391304347\n",
      "RandomForestClassifier() Avg cross val score is 0.7836613272311214\n",
      "GradientBoostingClassifier() accuracy is 0.7652173913043478\n",
      "GradientBoostingClassifier() Avg cross val score is 0.7627154843630816\n"
     ]
    }
   ],
   "source": [
    "model = LogisticRegression()\n",
    "model_val(model, X, y)\n",
    "\n",
    "model_svc = svm.SVC()\n",
    "model_val(model_svc, X, y)\n",
    "\n",
    "model = DecisionTreeClassifier()\n",
    "model_val(model, X, y)\n",
    "model = RandomForestClassifier()\n",
    "model_val(model, X, y)\n",
    "\n",
    "model = GradientBoostingClassifier()\n",
    "model_val(model, X, y)"
   ]
  },
  {
   "cell_type": "code",
   "execution_count": 10,
   "metadata": {},
   "outputs": [
    {
     "name": "stdout",
     "output_type": "stream",
     "text": [
      "Fitting 5 folds for each of 20 candidates, totalling 100 fits\n"
     ]
    }
   ],
   "source": [
    "log_reg_grid = {\"C\": np.logspace(-4, 4, 20),\n",
    "                    \"solver\": ['liblinear']}\n",
    "rs_log_reg = RandomizedSearchCV(LogisticRegression(), param_distributions=log_reg_grid,\n",
    "                                    n_iter=20, cv=5, verbose=True)\n",
    "rs_log_reg.fit(X, y)\n",
    "\n",
    "svc_grid = {'C': [0.25, 0.50, 0.75, 1], \"kernel\": [\"linear\"]}\n",
    "rs_svc = RandomizedSearchCV(svm.SVC(),\n",
    "                                param_distributions=svc_grid,\n",
    "                                cv=5,\n",
    "                                n_iter=20,\n",
    "                                verbose=True)"
   ]
  },
  {
   "cell_type": "code",
   "execution_count": 11,
   "metadata": {},
   "outputs": [
    {
     "name": "stderr",
     "output_type": "stream",
     "text": [
      "/home/cseku/.local/lib/python3.12/site-packages/sklearn/model_selection/_search.py:307: UserWarning: The total space of parameters 4 is smaller than n_iter=20. Running 4 iterations. For exhaustive searches, use GridSearchCV.\n",
      "  warnings.warn(\n"
     ]
    },
    {
     "name": "stdout",
     "output_type": "stream",
     "text": [
      "Fitting 5 folds for each of 4 candidates, totalling 20 fits\n",
      "Fitting 5 folds for each of 20 candidates, totalling 100 fits\n"
     ]
    },
    {
     "name": "stderr",
     "output_type": "stream",
     "text": [
      "/home/cseku/.local/lib/python3.12/site-packages/sklearn/model_selection/_validation.py:425: FitFailedWarning: \n",
      "50 fits failed out of a total of 100.\n",
      "The score on these train-test partitions for these parameters will be set to nan.\n",
      "If these failures are not expected, you can try to debug them by setting error_score='raise'.\n",
      "\n",
      "Below are more details about the failures:\n",
      "--------------------------------------------------------------------------------\n",
      "50 fits failed with the following error:\n",
      "Traceback (most recent call last):\n",
      "  File \"/home/cseku/.local/lib/python3.12/site-packages/sklearn/model_selection/_validation.py\", line 729, in _fit_and_score\n",
      "    estimator.fit(X_train, y_train, **fit_params)\n",
      "  File \"/home/cseku/.local/lib/python3.12/site-packages/sklearn/base.py\", line 1145, in wrapper\n",
      "    estimator._validate_params()\n",
      "  File \"/home/cseku/.local/lib/python3.12/site-packages/sklearn/base.py\", line 638, in _validate_params\n",
      "    validate_parameter_constraints(\n",
      "  File \"/home/cseku/.local/lib/python3.12/site-packages/sklearn/utils/_param_validation.py\", line 96, in validate_parameter_constraints\n",
      "    raise InvalidParameterError(\n",
      "sklearn.utils._param_validation.InvalidParameterError: The 'max_features' parameter of RandomForestClassifier must be an int in the range [1, inf), a float in the range (0.0, 1.0], a str among {'sqrt', 'log2'} or None. Got 'auto' instead.\n",
      "\n",
      "  warnings.warn(some_fits_failed_message, FitFailedWarning)\n",
      "/home/cseku/.local/lib/python3.12/site-packages/sklearn/model_selection/_search.py:979: UserWarning: One or more of the test scores are non-finite: [       nan        nan 0.77839817 0.80112891 0.79937452        nan\n",
      "        nan 0.79763539        nan        nan        nan 0.79937452\n",
      "        nan        nan 0.80112891 0.79937452 0.80112891        nan\n",
      " 0.80112891 0.79762014]\n",
      "  warnings.warn(\n"
     ]
    }
   ],
   "source": [
    "rs_svc.fit(X, y)\n",
    "\n",
    "rf_grid = {'n_estimators': np.arange(10, 1000, 10),\n",
    "               'max_features': ['auto', 'sqrt'],\n",
    "               'max_depth': [None, 3, 5, 20, 30],\n",
    "               'min_samples_split': [2, 5, 20, 50, 100],\n",
    "               'min_samples_leaf': [1, 2, 5, 10]\n",
    "               }\n",
    "rs_rf = RandomizedSearchCV(RandomForestClassifier(),\n",
    "                               param_distributions=rf_grid,\n",
    "                               cv=5,\n",
    "                               n_iter=20,\n",
    "                               verbose=True)\n",
    "rs_rf.fit(X, y)\n",
    "\n",
    "X = data.drop('Loan_Status', axis=1)\n",
    "y = data['Loan_Status']"
   ]
  },
  {
   "cell_type": "code",
   "execution_count": 13,
   "metadata": {},
   "outputs": [],
   "source": [
    "joblib.dump(rs_rf.best_estimator_, 'loan_status_predict')\n",
    "model = joblib.load('loan_status_predict')"
   ]
  },
  {
   "cell_type": "code",
   "execution_count": null,
   "metadata": {},
   "outputs": [],
   "source": []
  }
 ],
 "metadata": {
  "kernelspec": {
   "display_name": "Python 3",
   "language": "python",
   "name": "python3"
  },
  "language_info": {
   "codemirror_mode": {
    "name": "ipython",
    "version": 3
   },
   "file_extension": ".py",
   "mimetype": "text/x-python",
   "name": "python",
   "nbconvert_exporter": "python",
   "pygments_lexer": "ipython3",
   "version": "3.12.0"
  }
 },
 "nbformat": 4,
 "nbformat_minor": 2
}
